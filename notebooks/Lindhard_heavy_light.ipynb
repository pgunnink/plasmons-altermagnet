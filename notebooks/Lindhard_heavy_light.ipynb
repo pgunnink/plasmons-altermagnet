{
 "cells": [
  {
   "cell_type": "code",
   "execution_count": 1,
   "id": "37c2d93a-f979-40bf-b47a-9fbe7c48347d",
   "metadata": {},
   "outputs": [
    {
     "data": {
      "text/plain": [
       "(8, 6)"
      ]
     },
     "execution_count": 1,
     "metadata": {},
     "output_type": "execute_result"
    }
   ],
   "source": [
    "using Parameters\n",
    "using Unitful\n",
    "using LinearAlgebra\n",
    "import Unitful.ħ, Unitful.me, Unitful.ϵ0\n",
    "using Roots\n",
    "using PyPlot\n",
    "fig_width, fig_height = (8,6)"
   ]
  },
  {
   "cell_type": "code",
   "execution_count": 2,
   "id": "e0bf54b1-5877-426e-803c-af07f5ea1ba1",
   "metadata": {},
   "outputs": [
    {
     "data": {
      "text/plain": [
       "Params\n",
       "  mh: Quantity{Float64, 𝐌, Unitful.FreeUnits{(kg,), 𝐌, nothing}}\n",
       "  ml: Quantity{Float64, 𝐌, Unitful.FreeUnits{(kg,), 𝐌, nothing}}\n",
       "  Ef: Quantity{Int64, 𝐋² 𝐌 𝐓⁻², Unitful.FreeUnits{(eV,), 𝐋² 𝐌 𝐓⁻², nothing}}\n",
       "  ϵ: Int64 1\n"
      ]
     },
     "execution_count": 2,
     "metadata": {},
     "output_type": "execute_result"
    }
   ],
   "source": [
    "@with_kw mutable struct Params\n",
    "    mh = me\n",
    "    ml = 100me\n",
    "    Ef = 5u\"eV\"\n",
    "    ϵ = 1\n",
    "end\n",
    "p = Params()"
   ]
  },
  {
   "cell_type": "code",
   "execution_count": null,
   "id": "24922aac-fb6d-4344-89c1-40e18c4358bb",
   "metadata": {},
   "outputs": [],
   "source": [
    "kFh(p) = sqrt(2p.mh * p.Ef) / ħ\n",
    "kFl(p) = sqrt(2p.ml * p.Ef) / ħ"
   ]
  }
 ],
 "metadata": {
  "kernelspec": {
   "display_name": "Julia 1.11.1",
   "language": "julia",
   "name": "julia-1.11"
  },
  "language_info": {
   "file_extension": ".jl",
   "mimetype": "application/julia",
   "name": "julia",
   "version": "1.11.1"
  }
 },
 "nbformat": 4,
 "nbformat_minor": 5
}
